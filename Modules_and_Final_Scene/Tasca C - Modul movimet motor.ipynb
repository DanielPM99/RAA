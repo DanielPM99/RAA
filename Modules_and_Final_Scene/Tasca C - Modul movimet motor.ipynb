{
 "cells": [
  {
   "cell_type": "markdown",
   "metadata": {},
   "source": [
    "<h2> Movimiento Motor </h2>\n",
    "<h4>1. Establecer la conexión y obtener los controladores (handlers)</h4>"
   ]
  },
  {
   "cell_type": "code",
   "execution_count": 28,
   "metadata": {},
   "outputs": [
    {
     "name": "stdout",
     "output_type": "stream",
     "text": [
      "conectado a 19999\n"
     ]
    }
   ],
   "source": [
    "import sim\n",
    "import numpy as np\n",
    "import math\n",
    "import time\n",
    "\n",
    "def connect(port):\n",
    "# Establece la conexión a COPPELIA\n",
    "# El port debe coincidir con el puerto de conexión en VREP  -- DALE AL PLAY !!!\n",
    "# retorna el número de cliente o -1 si no puede establecer conexión\n",
    "    sim.simxFinish(-1) # just in case, close all opened connections\n",
    "    clientID=sim.simxStart('127.0.0.1',port,True,True,2000,5) # Conectarse\n",
    "    if clientID == 0: print(\"conectado a\", port)\n",
    "    else: print(\"no se pudo conectar\")\n",
    "    return clientID\n",
    "\n",
    "# Conectarse al servidor de COPPELIA\n",
    "# *** _Hay que ejecutarlo cada vez que se reinicia la simulación ***\n",
    "clientID = connect(19999)\n",
    "ret,nema23=sim.simxGetObjectHandle(clientID,'nema23',sim.simx_opmode_blocking)"
   ]
  },
  {
   "cell_type": "markdown",
   "metadata": {},
   "source": [
    "<h4> 3. Posición de las articulaciones?</h4>"
   ]
  },
  {
   "cell_type": "code",
   "execution_count": 29,
   "metadata": {},
   "outputs": [
    {
     "name": "stdout",
     "output_type": "stream",
     "text": [
      "Radiants: 0.017778964713215828 Graus: 1.018659642179285\n"
     ]
    }
   ],
   "source": [
    "# leemos la posición de Joint1, en radianes.\n",
    "returnCode, radNema = sim.simxGetJointPosition(clientID, nema23, sim.simx_opmode_blocking)\n",
    "degNema=radNema *180/np.pi\n",
    "print(\"Radiants:\", radNema, \"Graus:\", degNema)\n"
   ]
  },
  {
   "cell_type": "markdown",
   "metadata": {},
   "source": [
    "<h4> 4. Conntrol de velocidad del robot</h4>"
   ]
  },
  {
   "cell_type": "code",
   "execution_count": 30,
   "metadata": {},
   "outputs": [],
   "source": [
    "MAX_DEG = 60\n",
    "MIN_DEG = 0\n",
    "MAX_VEL = 1\n",
    "STOP = 0\n",
    "\n",
    "VOL_MIN=50\n",
    "VOL_MAX=90\n",
    "\n",
    "RPM_MIN=5\n",
    "RPM_MAX=30\n",
    "\n",
    "RADI_MIN=1\n",
    "RADI_MAX=3\n",
    "\n",
    "ERROR_MESSAGE= \"Valor incorrecte. Siusplau, introdueixi un valor entre\"\n",
    "\n",
    "\n",
    "# Per assigar els parametres del robot, sha utilitzat criteris aproximats, logics i proporcionals als angles maxims i velocitat \n",
    "# maxims del robot. PEr fer'ho realista i segur, hauriem de coneixer les caracteristiques mediques dún ventilador manual extern, \n",
    "# quines son les necessitats pulmonars del cos humà\n",
    "\n",
    "def movimentParametritzat(volAire, rpm, radi):\n",
    "    angle=0 \n",
    "    \n",
    "    # VOLUM AIRE = 50-90\n",
    "    while volAire < VOL_MIN or volAire > VOL_MAX:\n",
    "        print(ERROR_MESSAGE, VOL_MIN ,\" i \", VOL_MAX)\n",
    "        volAire = int(input())               \n",
    "        \n",
    "    maxDeg = volAire-30\n",
    "    \n",
    "    # RPM = 5-30\n",
    "    while rpm < RPM_MIN or rpm > RPM_MAX:\n",
    "        print(ERROR_MESSAGE, RPM_MIN ,\" i \", RPM_MAX)\n",
    "        rpm = int(input())\n",
    "        \n",
    "    vel = ((rpm-RPM_MIN)*(100/(RPM_MAX-RPM_MIN)))/100\n",
    "        \n",
    "         \n",
    "    # RADI = 1,2,3\n",
    "    while radi < RADI_MIN or radi > RADI_MAX:\n",
    "        print(ERROR_MESSAGE, RADI_MIN ,\" i \", RADI_MAX)\n",
    "        radi = int(input())\n",
    "        \n",
    "    velInsp = vel\n",
    "    velExp = vel\n",
    "    \n",
    "    if radi != RADI_MIN:\n",
    "        if radi == RADI_MAX:\n",
    "            velInsp = vel*0.5\n",
    "        else:\n",
    "            velExp = vel*0.5  \n",
    "            \n",
    "    ## - Funcionalitat - ##\n",
    "    for i in range(10):\n",
    "        while(angle<maxDeg):\n",
    "            sim.simxSetJointTargetVelocity(clientID, nema23, velInsp, sim.simx_opmode_oneshot)\n",
    "            retCode,radNema = sim.simxGetJointPosition(clientID, nema23, sim.simx_opmode_blocking)\n",
    "            angle=radNema *180/np.pi\n",
    "\n",
    "        sim.simxSetJointTargetVelocity(clientID, nema23, STOP, sim.simx_opmode_oneshot)\n",
    "\n",
    "        while(angle>MIN_DEG):\n",
    "            sim.simxSetJointTargetVelocity(clientID, nema23, -velExp, sim.simx_opmode_oneshot)\n",
    "            retCode,radNema = sim.simxGetJointPosition(clientID, nema23, sim.simx_opmode_blocking)\n",
    "            angle=radNema *180/np.pi\n",
    "\n",
    "        sim.simxSetJointTargetVelocity(clientID, nema23, STOP, sim.simx_opmode_oneshot)"
   ]
  },
  {
   "cell_type": "code",
   "execution_count": 4,
   "metadata": {
    "scrolled": true
   },
   "outputs": [
    {
     "name": "stdout",
     "output_type": "stream",
     "text": [
      "Valor incorrecte. Siusplau, introdueixi un valor entre 50  i  90\n",
      "20\n",
      "Valor incorrecte. Siusplau, introdueixi un valor entre 50  i  90\n",
      "50\n",
      "Valor incorrecte. Siusplau, introdueixi un valor entre 5  i  30\n",
      "20\n",
      "Valor incorrecte. Siusplau, introdueixi un valor entre 1  i  3\n",
      "1\n"
     ]
    }
   ],
   "source": [
    "\n",
    "movimentParametritzat(50, 25, 2) #Test 1\n",
    "\n",
    "movimentParametritzat(50, 15, 2) #Test 2\n",
    "\n",
    "movimentParametritzat(50, 30, 2) #Test 3\n"
   ]
  },
  {
   "cell_type": "code",
   "execution_count": 31,
   "metadata": {},
   "outputs": [],
   "source": [
    "movimentParametritzat(70, 22, 1) #Test 1\n",
    "movimentParametritzat(70, 30, 1) #Test 1\n",
    "movimentParametritzat(70, 15, 1) #Test 2\n"
   ]
  },
  {
   "cell_type": "code",
   "execution_count": null,
   "metadata": {},
   "outputs": [],
   "source": []
  }
 ],
 "metadata": {
  "kernelspec": {
   "display_name": "Python 3",
   "language": "python",
   "name": "python3"
  },
  "language_info": {
   "codemirror_mode": {
    "name": "ipython",
    "version": 3
   },
   "file_extension": ".py",
   "mimetype": "text/x-python",
   "name": "python",
   "nbconvert_exporter": "python",
   "pygments_lexer": "ipython3",
   "version": "3.8.3"
  }
 },
 "nbformat": 4,
 "nbformat_minor": 2
}
